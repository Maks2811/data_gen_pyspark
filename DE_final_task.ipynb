{
  "nbformat": 4,
  "nbformat_minor": 0,
  "metadata": {
    "colab": {
      "provenance": [],
      "authorship_tag": "ABX9TyPPOPGdPYmQCs+34kdV2bcK",
      "include_colab_link": true
    },
    "kernelspec": {
      "name": "python3",
      "display_name": "Python 3"
    },
    "language_info": {
      "name": "python"
    }
  },
  "cells": [
    {
      "cell_type": "markdown",
      "metadata": {
        "id": "view-in-github",
        "colab_type": "text"
      },
      "source": [
        "<a href=\"https://colab.research.google.com/github/Maks2811/data_gen_pyspark/blob/main/DE_final_task.ipynb\" target=\"_parent\"><img src=\"https://colab.research.google.com/assets/colab-badge.svg\" alt=\"Open In Colab\"/></a>"
      ]
    },
    {
      "cell_type": "code",
      "execution_count": 1,
      "metadata": {
        "colab": {
          "base_uri": "https://localhost:8080/"
        },
        "id": "N8jKWxq2t5xC",
        "outputId": "c75ba879-c7b1-41f9-f528-207452364dd5"
      },
      "outputs": [
        {
          "output_type": "stream",
          "name": "stdout",
          "text": [
            "Collecting pyspark\n",
            "  Downloading pyspark-3.5.2.tar.gz (317.3 MB)\n",
            "\u001b[2K     \u001b[90m━━━━━━━━━━━━━━━━━━━━━━━━━━━━━━━━━━━━━━━━\u001b[0m \u001b[32m317.3/317.3 MB\u001b[0m \u001b[31m4.8 MB/s\u001b[0m eta \u001b[36m0:00:00\u001b[0m\n",
            "\u001b[?25h  Preparing metadata (setup.py) ... \u001b[?25l\u001b[?25hdone\n",
            "Requirement already satisfied: py4j==0.10.9.7 in /usr/local/lib/python3.10/dist-packages (from pyspark) (0.10.9.7)\n",
            "Building wheels for collected packages: pyspark\n",
            "  Building wheel for pyspark (setup.py) ... \u001b[?25l\u001b[?25hdone\n",
            "  Created wheel for pyspark: filename=pyspark-3.5.2-py2.py3-none-any.whl size=317812365 sha256=1eecf229d3519ea6e9d9fb266763bd5667821a22df06c098c62b999b94ab437f\n",
            "  Stored in directory: /root/.cache/pip/wheels/34/34/bd/03944534c44b677cd5859f248090daa9fb27b3c8f8e5f49574\n",
            "Successfully built pyspark\n",
            "Installing collected packages: pyspark\n",
            "Successfully installed pyspark-3.5.2\n"
          ]
        }
      ],
      "source": [
        "#!pip install pyspark"
      ]
    },
    {
      "cell_type": "code",
      "source": [],
      "metadata": {
        "id": "PNwzts1qxgqO"
      },
      "execution_count": null,
      "outputs": []
    },
    {
      "cell_type": "code",
      "source": [
        "from pyspark.sql import SparkSession\n",
        "from pyspark.sql.functions import col, sum, avg\n",
        "from pyspark.sql.functions import udf\n",
        "from pyspark.sql.types import StringType\n",
        "\n",
        "spark = SparkSession.builder \\\n",
        "        .appName(\"Create DataFrame from CSV\") \\\n",
        "        .master(\"local[*]\") \\\n",
        "        .getOrCreate()\n",
        "csv_file_path=('/content/russian_houses.csv')\n",
        "df =spark.read.csv(csv_file_path, header=True, inferSchema=True, encoding='UTF-16LE', multiLine=True)\n",
        "df.show()\n",
        "df.printSchema()\n",
        "\n",
        "row_count=df.count()\n",
        "print(f\"Количество строк в датафрейме: {row_count}\")\n",
        "\n",
        "# Определяем функцию очистки даты постройки\n",
        "def clean_year(year):\n",
        "    if isinstance(year, str) and year.isdigit() and len(year) == 4:\n",
        "        return year\n",
        "    else:\n",
        "        return None\n",
        "\n",
        "# Регистрируем UDF\n",
        "clean_year_udf = udf(clean_year, StringType())\n",
        "\n",
        "df = df.withColumn(\"maintenance_year\", clean_year_udf(df[\"maintenance_year\"]))\n",
        "\n",
        "#df_house_id = df.select('house_id')\n",
        "#df_house_id.show()\n",
        "\n",
        "df = df.fillna(0)\n",
        "df = df.fillna('0')\n",
        "null_counts = df.select([sum(col(c).isNull().cast(\"int\")).alias(c) for c in df.columns])\n",
        "null_counts.show()\n",
        "\n",
        "df = df.withColumn(\"maintenance_year\", col(\"maintenance_year\").cast(\"int\"))\n",
        "df.printSchema()\n",
        "\n",
        "\n",
        "year_avg = round(df.filter(df[\"maintenance_year\"] != 0).select(avg(\"maintenance_year\")).collect()[0][0])\n",
        "\n",
        "print(f'Средний год постройки зданий: {year_avg}')\n",
        "\n",
        "year_median = df.filter(df[\"maintenance_year\"] != 0).approxQuantile(\"maintenance_year\", [0.5], 0.01)[0]\n",
        "print(f'Медианный год постройки зданий: {year_median}')\n",
        "\n",
        "spark.stop()"
      ],
      "metadata": {
        "colab": {
          "base_uri": "https://localhost:8080/"
        },
        "id": "pI4KPj7yuOzU",
        "outputId": "78e3dbe0-914d-4544-e698-948e3b0f6b78"
      },
      "execution_count": 50,
      "outputs": [
        {
          "output_type": "stream",
          "name": "stdout",
          "text": [
            "+--------+------------------+------------------+----------------+--------+----------+-------------------+--------------------+--------------------+--------------------+-------------------+--------------------+\n",
            "|house_id|          latitude|         longitude|maintenance_year|  square|population|             region|       locality_name|             address|        full_address|communal_service_id|         description|\n",
            "+--------+------------------+------------------+----------------+--------+----------+-------------------+--------------------+--------------------+--------------------+-------------------+--------------------+\n",
            "|       1|         44.707617|         43.006476|            1974|2 661.10|        89|Ставропольский край|село Александровское|с. Александровско...|Ставропольский кр...|                1.0|Жилой дом в , по ...|\n",
            "|       2|44.706720000000004|         43.005281|            1989|3 111.10|       115|Ставропольский край|село Александровское|с. Александровско...|Ставропольский кр...|                1.0|Жилой дом в , по ...|\n",
            "|       3|         44.708302|43.006665000000005|            1977|2 896.04|        89|Ставропольский край|село Александровское|с. Александровско...|Ставропольский кр...|                1.0|Жилой дом в , по ...|\n",
            "|       4|44.711946999999995|          42.97358|            NULL|  620.00|        30|Ставропольский край|село Александровское|с. Александровско...|Ставропольский кр...|                1.0|Жилой дом в , по ...|\n",
            "|       5|44.711946999999995|          42.97358|            1978|1 061.92|        26|Ставропольский край|село Александровское|с. Александровско...|Ставропольский кр...|                1.0|Жилой дом в , по ...|\n",
            "|       6|         44.707751|         43.005515|            1978|2 688.70|       105|Ставропольский край|село Александровское|с. Александровско...|Ставропольский кр...|                2.0|Жилой дом в , по ...|\n",
            "|       7|44.711946999999995|          42.97358|            1973|  854.90|        40|Ставропольский край|село Александровское|с. Александровско...|Ставропольский кр...|                3.0|Жилой дом в , по ...|\n",
            "|       8|44.723622999999996|         42.996864|            1978|  924.40|        31|Ставропольский край|село Александровское|с. Александровско...|Ставропольский кр...|                4.0|Жилой дом в , по ...|\n",
            "|       9|44.721765999999995|          43.02013|            1974|1 011.30|        38|Ставропольский край|село Александровское|с. Александровско...|Ставропольский кр...|                5.0|Жилой дом в , по ...|\n",
            "|      10|         44.710557|         43.000278|            1963|  621.21|        20|Ставропольский край|село Александровское|с. Александровско...|Ставропольский кр...|                6.0|Жилой дом в , по ...|\n",
            "|      11|44.724903999999995|         43.003359|            1972|  681.60|        26|Ставропольский край|село Александровское|с. Александровско...|Ставропольский кр...|                7.0|Жилой дом в , по ...|\n",
            "|      12|44.711946999999995|          42.97358|            1974|  854.60|        51|Ставропольский край|село Александровское|с. Александровско...|Ставропольский кр...|                8.0|Жилой дом в , по ...|\n",
            "|      13|         44.234768|43.094941999999996|            1969|  693.50|        28|Ставропольский край|поселок городског...|п. Анджиевский, у...|Ставропольский кр...|                9.0|Жилой дом в , по ...|\n",
            "|      14|         44.234768|43.094941999999996|            1993|  454.90|        26|Ставропольский край|поселок городског...|п. Анджиевский, у...|Ставропольский кр...|                9.0|Жилой дом в , по ...|\n",
            "|      15|         44.234768|43.094941999999996|            1987|2 245.70|       101|Ставропольский край|поселок городског...|п. Анджиевский, у...|Ставропольский кр...|                9.0|Жилой дом в , по ...|\n",
            "|      16|         44.234768|43.094941999999996|            1978|3 998.70|       183|Ставропольский край|поселок городског...|п. Анджиевский, у...|Ставропольский кр...|                9.0|Жилой дом в , по ...|\n",
            "|      17|         44.146484|         43.445411|            1984|1 522.00|        65|Ставропольский край|          Георгиевск|ул. Гастелло, д. ...|Ставропольский кр...|               10.0|Жилой дом в Георг...|\n",
            "|      18|         44.148599|         43.473896|            1961|  558.20|        40|Ставропольский край|          Георгиевск| ул. Горийская, д. 8|Ставропольский кр...|               10.0|Жилой дом в Георг...|\n",
            "|      19|44.151270000000004|         43.484999|            1993|1 561.00|        71|Ставропольский край|          Георгиевск|  пер. Казачий, д. 3|Ставропольский кр...|               10.0|Жилой дом в Георг...|\n",
            "|      20|         44.131961|          43.45107|            1976|3 899.80|        91|Ставропольский край|          Георгиевск|ул. Калинина, д. 119|Ставропольский кр...|               10.0|Жилой дом в Георг...|\n",
            "+--------+------------------+------------------+----------------+--------+----------+-------------------+--------------------+--------------------+--------------------+-------------------+--------------------+\n",
            "only showing top 20 rows\n",
            "\n",
            "root\n",
            " |-- house_id: integer (nullable = true)\n",
            " |-- latitude: double (nullable = true)\n",
            " |-- longitude: double (nullable = true)\n",
            " |-- maintenance_year: string (nullable = true)\n",
            " |-- square: string (nullable = true)\n",
            " |-- population: string (nullable = true)\n",
            " |-- region: string (nullable = true)\n",
            " |-- locality_name: string (nullable = true)\n",
            " |-- address: string (nullable = true)\n",
            " |-- full_address: string (nullable = true)\n",
            " |-- communal_service_id: string (nullable = true)\n",
            " |-- description: string (nullable = true)\n",
            "\n",
            "Количество строк в датафрейме: 590707\n",
            "+--------+--------+---------+----------------+------+----------+------+-------------+-------+------------+-------------------+-----------+\n",
            "|house_id|latitude|longitude|maintenance_year|square|population|region|locality_name|address|full_address|communal_service_id|description|\n",
            "+--------+--------+---------+----------------+------+----------+------+-------------+-------+------------+-------------------+-----------+\n",
            "|       0|       0|        0|               0|     0|         0|     0|            0|      0|           0|                  0|          0|\n",
            "+--------+--------+---------+----------------+------+----------+------+-------------+-------+------------+-------------------+-----------+\n",
            "\n",
            "root\n",
            " |-- house_id: integer (nullable = true)\n",
            " |-- latitude: double (nullable = false)\n",
            " |-- longitude: double (nullable = false)\n",
            " |-- maintenance_year: integer (nullable = true)\n",
            " |-- square: string (nullable = false)\n",
            " |-- population: string (nullable = false)\n",
            " |-- region: string (nullable = false)\n",
            " |-- locality_name: string (nullable = false)\n",
            " |-- address: string (nullable = false)\n",
            " |-- full_address: string (nullable = false)\n",
            " |-- communal_service_id: string (nullable = false)\n",
            " |-- description: string (nullable = false)\n",
            "\n",
            "Средний год постройки зданий: 1970\n",
            "Медианный год постройки зданий: 1967.0\n"
          ]
        }
      ]
    },
    {
      "cell_type": "code",
      "source": [],
      "metadata": {
        "id": "ljKSvkdbvxYk"
      },
      "execution_count": 32,
      "outputs": []
    },
    {
      "cell_type": "code",
      "source": [],
      "metadata": {
        "id": "6CvCpqU25Dfb"
      },
      "execution_count": null,
      "outputs": []
    }
  ]
}